{
  "nbformat": 4,
  "nbformat_minor": 0,
  "metadata": {
    "colab": {
      "provenance": [],
      "toc_visible": true,
      "authorship_tag": "ABX9TyOaLQ/FNYtaAmm/eE9lTzoS",
      "include_colab_link": true
    },
    "kernelspec": {
      "name": "python3",
      "display_name": "Python 3"
    },
    "language_info": {
      "name": "python"
    }
  },
  "cells": [
    {
      "cell_type": "markdown",
      "metadata": {
        "id": "view-in-github",
        "colab_type": "text"
      },
      "source": [
        "<a href=\"https://colab.research.google.com/github/pablohenrique93/projeto-pratico-python-machine-learning-2/blob/main/final_project_machine_learning_%7C%7C.ipynb\" target=\"_parent\"><img src=\"https://colab.research.google.com/assets/colab-badge.svg\" alt=\"Open In Colab\"/></a>"
      ]
    },
    {
      "cell_type": "markdown",
      "source": [
        "#Instalação das Bibliotecas"
      ],
      "metadata": {
        "id": "Fx_YXWx3OcVG"
      }
    },
    {
      "cell_type": "code",
      "execution_count": null,
      "metadata": {
        "id": "hWcVJTWRL0t2"
      },
      "outputs": [],
      "source": [
        "#Instalação do módulo de arima para se utilizar o algoritmo de previsão temporal\n",
        "!pip install pmdarima"
      ]
    },
    {
      "cell_type": "markdown",
      "source": [
        "**Importação das Bibliotecas Padrões**"
      ],
      "metadata": {
        "id": "f3iriBuwPF3m"
      }
    },
    {
      "cell_type": "code",
      "source": [
        "import pandas as pd\n",
        "import numpy as np\n",
        "import matplotlib.pyplot as plt\n",
        "import plotly.express as px\n",
        "import plotly.graph_objects as go\n",
        "# Biblioteca padrão para trabalhar com datas\n",
        "import datetime\n",
        "# Decomposição de série temporal\n",
        "from statsmodels.tsa.seasonal import seasonal_decompose\n",
        "#Importando biblioteca para previsão temporal\n",
        "from pmdarima.arima import auto_arima"
      ],
      "metadata": {
        "id": "751GRcdzOrr9"
      },
      "execution_count": 2,
      "outputs": []
    },
    {
      "cell_type": "markdown",
      "source": [
        "#Carregamento da Base de Dados"
      ],
      "metadata": {
        "id": "fp2rwvcVQLFm"
      }
    },
    {
      "cell_type": "code",
      "source": [
        "#Lendo o arquivo de dados, já importando as colunas \"ObservationDate\" e \"Last Update\" em formato de data\n",
        "#Para que o algoritmo possa entender e processar essas datas, e realizarmos previsões a partir disso.\n",
        "df_covid= pd.read_csv(('/content/covid_19_data.csv'), parse_dates=['ObservationDate', 'Last Update'])"
      ],
      "metadata": {
        "id": "39Hnc54GRWL0"
      },
      "execution_count": 3,
      "outputs": []
    },
    {
      "cell_type": "markdown",
      "source": [
        "#Pré Análise dos Dados"
      ],
      "metadata": {
        "id": "teqOR6XlZIv8"
      }
    },
    {
      "cell_type": "code",
      "source": [
        "#Exibindo as primeiras linhas do dataset\n",
        "df_covid.head(20)"
      ],
      "metadata": {
        "id": "VX-qv2--R0lF"
      },
      "execution_count": null,
      "outputs": []
    },
    {
      "cell_type": "code",
      "source": [
        "#Exibindo as ultimas linhas do dataset\n",
        "df_covid.tail()"
      ],
      "metadata": {
        "id": "kDf-jPYWTTUg"
      },
      "execution_count": null,
      "outputs": []
    },
    {
      "cell_type": "code",
      "source": [
        "#Exibição dos tipos das colunas do dataset\n",
        "df_covid.dtypes"
      ],
      "metadata": {
        "id": "Fd4JgvSGS5Hn"
      },
      "execution_count": null,
      "outputs": []
    },
    {
      "cell_type": "code",
      "source": [
        "#Exibição do tamanho\n",
        "df_covid.shape"
      ],
      "metadata": {
        "id": "q9LDvUcJTJiE"
      },
      "execution_count": null,
      "outputs": []
    },
    {
      "cell_type": "code",
      "source": [
        "#Exibindo algumas informações como o tipo de cada coluna e dados nulos\n",
        "df_covid.info()"
      ],
      "metadata": {
        "id": "RvxJLjkdTPhQ"
      },
      "execution_count": null,
      "outputs": []
    },
    {
      "cell_type": "markdown",
      "source": [
        "#Pré Visualização"
      ],
      "metadata": {
        "id": "-2lg8UhcS2Ec"
      }
    },
    {
      "cell_type": "markdown",
      "source": [
        "**Como verificado, o dataset é muito grande, a partir disso optou-se por trabalhar com dados de apenas um país, sendo ele o Brasil**"
      ],
      "metadata": {
        "id": "mV-LAVJpZ3Hz"
      }
    },
    {
      "cell_type": "code",
      "source": [
        "#Filtro de dados utilizando o Brasil como parâmetro\n",
        "df_covid_brasil = df_covid[df_covid['Country/Region']=='Brazil']"
      ],
      "metadata": {
        "id": "f-7olug1ZMhr"
      },
      "execution_count": 9,
      "outputs": []
    },
    {
      "cell_type": "code",
      "source": [
        "#Exibindo o dataset\n",
        "df_covid_brasil"
      ],
      "metadata": {
        "id": "S47CACH3ZoXj"
      },
      "execution_count": null,
      "outputs": []
    },
    {
      "cell_type": "code",
      "source": [
        "#Exibindo informações deste novo dataset\n",
        "df_covid_brasil.info()\n",
        "#É possível observar alguns dados nulos"
      ],
      "metadata": {
        "id": "k9R1x04VZ0ve"
      },
      "execution_count": null,
      "outputs": []
    },
    {
      "cell_type": "code",
      "source": [
        "#Exibindo a quantidade de dados por estado\n",
        "df_covid_brasil['Province/State'].value_counts().sort_values(ascending=False)\n",
        "#É possível notar que os dados estão bem distribuídos entre os estados"
      ],
      "metadata": {
        "id": "lgVFyFK0bdHT"
      },
      "execution_count": null,
      "outputs": []
    },
    {
      "cell_type": "code",
      "source": [
        "#Verificando a quantidade de valores nulos no dataset\n",
        "df_covid_brasil.isnull().sum()\n",
        "#Como verificado, temos 85 dados faltantes na coluna Province/State"
      ],
      "metadata": {
        "id": "fsry6j8HjyMi"
      },
      "execution_count": null,
      "outputs": []
    },
    {
      "cell_type": "markdown",
      "source": [
        "#Tratamento dos Dados"
      ],
      "metadata": {
        "id": "AjgbWj9Gmd3S"
      }
    },
    {
      "cell_type": "code",
      "source": [
        "df_covid_brasil.head(1)"
      ],
      "metadata": {
        "id": "JOszJseQnagg"
      },
      "execution_count": null,
      "outputs": []
    },
    {
      "cell_type": "code",
      "source": [
        "#Percorrendo colunas com o objetivo de encontrar valores inconsistentes\n",
        "pd.unique(df_covid_brasil['ObservationDate'])"
      ],
      "metadata": {
        "id": "H_ltCFaZnMeh"
      },
      "execution_count": null,
      "outputs": []
    },
    {
      "cell_type": "code",
      "source": [
        "pd.unique(df_covid_brasil['Province/State'])"
      ],
      "metadata": {
        "id": "ESr_YZoVnjjA"
      },
      "execution_count": null,
      "outputs": []
    },
    {
      "cell_type": "code",
      "source": [
        "pd.unique(df_covid_brasil['Country/Region'])"
      ],
      "metadata": {
        "id": "0Q6PODOFnz7J"
      },
      "execution_count": null,
      "outputs": []
    },
    {
      "cell_type": "code",
      "source": [
        "pd.unique(df_covid_brasil['Last Update'])"
      ],
      "metadata": {
        "id": "Ox0Wrl9wn57h"
      },
      "execution_count": null,
      "outputs": []
    },
    {
      "cell_type": "code",
      "source": [
        "pd.unique(df_covid_brasil['Confirmed'])"
      ],
      "metadata": {
        "id": "zq1JHy6mn_mx"
      },
      "execution_count": null,
      "outputs": []
    },
    {
      "cell_type": "code",
      "source": [
        "pd.unique(df_covid_brasil['Deaths'])"
      ],
      "metadata": {
        "id": "5eLihYOPoGah"
      },
      "execution_count": null,
      "outputs": []
    },
    {
      "cell_type": "code",
      "source": [
        "pd.unique(df_covid_brasil['Recovered'])"
      ],
      "metadata": {
        "id": "PLmSuP2ioMtZ"
      },
      "execution_count": null,
      "outputs": []
    },
    {
      "cell_type": "markdown",
      "source": [
        "# Limpeza de Inconsistências e Padronização de Colunas"
      ],
      "metadata": {
        "id": "jHLcuKt8od6d"
      }
    },
    {
      "cell_type": "code",
      "source": [
        "#Renomeação e tradução das colunas com o objetivo de facilitar o entendimento dos dados\n",
        "df_covid_brasil.rename(columns={\n",
        "    'SNo':'numero_de_serie',\n",
        "    'ObservationDate':'data_da_observacao',\n",
        "    'Province/State':'estado',\n",
        "    'Country/Region':'pais',\n",
        "    'Last Update':'ultima_atualizacao',\n",
        "    'Confirmed':'casos_confirmados',\n",
        "    'Deaths':'mortes_acumuladas',\n",
        "    'Recovered':'casos_recuperados'\n",
        "},inplace=True)"
      ],
      "metadata": {
        "id": "hkw5yw1ammv4"
      },
      "execution_count": null,
      "outputs": []
    },
    {
      "cell_type": "code",
      "source": [
        "#Conferindo dataset após alteração\n",
        "df_covid_brasil"
      ],
      "metadata": {
        "id": "qF5F8m7-qXbQ"
      },
      "execution_count": null,
      "outputs": []
    },
    {
      "cell_type": "code",
      "source": [
        "#Traduzindo dados dentro das colunas \"estado\" e \"país\", para facilitar o entendimento\n",
        "df_covid_brasil.replace({'estado':'Unknown'}, 'desconhecido',regex=True, inplace=True)\n",
        "df_covid_brasil.replace({'pais':'Brazil'}, 'Brasil',regex=True, inplace=True)"
      ],
      "metadata": {
        "id": "S0uq4RAsqj6R"
      },
      "execution_count": null,
      "outputs": []
    },
    {
      "cell_type": "markdown",
      "source": [
        "#Visualização e Exploração dos Dados"
      ],
      "metadata": {
        "id": "zBVuUmpnjqC3"
      }
    },
    {
      "cell_type": "code",
      "source": [
        "#Exibindo os casos confirmados por estado em porcentagem\n",
        "casos_por_estado = df_covid_brasil.groupby(['estado'])['casos_confirmados'].sum().sort_values(ascending=False)\n",
        "porcentagem_casos = (casos_por_estado / casos_por_estado.sum())*100\n",
        "porcentagem_casos"
      ],
      "metadata": {
        "id": "V3p4NeKbbrsb"
      },
      "execution_count": null,
      "outputs": []
    },
    {
      "cell_type": "code",
      "source": [
        "#Exibindo a análise anterior com auxílio de plot\n",
        "porcentagem_casos.plot(kind='bar', figsize=(12,8))"
      ],
      "metadata": {
        "id": "7r8T0sSNcP1z"
      },
      "execution_count": null,
      "outputs": []
    },
    {
      "cell_type": "code",
      "source": [
        "df_covid_brasil.dtypes"
      ],
      "metadata": {
        "id": "UJSZqf7Jyk71"
      },
      "execution_count": null,
      "outputs": []
    },
    {
      "cell_type": "code",
      "source": [
        "#Exibindo a quantidade em porcentagem de casos de mortes por estado\n",
        "mortes_por_estado = df_covid_brasil.groupby(['estado'])['mortes_acumuladas'].sum().sort_values(ascending=False)\n",
        "porcentagem_mortes = (mortes_por_estado/mortes_por_estado.sum())*100\n",
        "porcentagem_mortes"
      ],
      "metadata": {
        "id": "lt6SAL-UcsuR"
      },
      "execution_count": null,
      "outputs": []
    },
    {
      "cell_type": "code",
      "source": [
        "#Exibindo a análise anterior com auxílio de plot\n",
        "porcentagem_mortes.plot(kind='bar', figsize=(12,8))\n",
        "#Como observado a maior parte dos casos de mortes vem de SP, RJ e MG"
      ],
      "metadata": {
        "id": "Khv0-OqNdLFr"
      },
      "execution_count": null,
      "outputs": []
    },
    {
      "cell_type": "code",
      "source": [
        "#Análise da taxa de recuperação por estado\n",
        "recupera_por_estado = df_covid_brasil.groupby(['estado'])['casos_recuperados'].sum().sort_values(ascending=False)\n",
        "tx_recupera = ((recupera_por_estado/casos_por_estado)*100).sort_values(ascending=False)"
      ],
      "metadata": {
        "id": "q_QW9hS1eCMK"
      },
      "execution_count": 31,
      "outputs": []
    },
    {
      "cell_type": "code",
      "source": [
        "#Exibição desta análise com auxílio de plot\n",
        "tx_recupera.plot(kind='bar', figsize=(12,8))"
      ],
      "metadata": {
        "id": "J1froh4Ee95i"
      },
      "execution_count": null,
      "outputs": []
    },
    {
      "cell_type": "code",
      "source": [
        "# Analisando os casos ativos por estado\n",
        "casos_ativos = (casos_por_estado - mortes_por_estado - recupera_por_estado).sort_values(ascending=False)\n",
        "# Observa-se que muitas recuperações foram registradas como 'desconhecido', por isso está como negativo"
      ],
      "metadata": {
        "id": "KfX0Vp2Cfm3y"
      },
      "execution_count": 33,
      "outputs": []
    },
    {
      "cell_type": "code",
      "source": [
        "#Observando esta situação de maneira visual\n",
        "casos_ativos.plot(kind='bar', figsize=(12,8))"
      ],
      "metadata": {
        "id": "FZ2hhT8UfriC"
      },
      "execution_count": null,
      "outputs": []
    },
    {
      "cell_type": "code",
      "source": [
        "df_covid_brasil.dtypes"
      ],
      "metadata": {
        "id": "sd792J7Cy5pW"
      },
      "execution_count": null,
      "outputs": []
    },
    {
      "cell_type": "code",
      "source": [
        "#Agregando os valores de casos confirmados, recuperados e mortes\n",
        "df_brasil_casos =df_covid_brasil.groupby([\"data_da_observacao\"]).agg({\"casos_confirmados\":'sum',\"casos_recuperados\":'sum',\"mortes_acumuladas\":'sum'})"
      ],
      "metadata": {
        "id": "muz8XVTPuOWf"
      },
      "execution_count": 36,
      "outputs": []
    },
    {
      "cell_type": "code",
      "source": [
        "#Plotando agora o gráfico de casos confirmados, recuperados e mortes ao longo do tempo\n",
        "fig=go.Figure()\n",
        "fig.add_trace(go.Scatter(x=df_brasil_casos.index, y=df_brasil_casos[\"casos_confirmados\"], name='Confirmados'))\n",
        "fig.add_trace(go.Scatter(x=df_brasil_casos.index, y=df_brasil_casos['casos_recuperados'], name='Recuperados'))\n",
        "\n",
        "fig.add_trace(go.Scatter(x=df_brasil_casos.index, y=df_brasil_casos['mortes_acumuladas'], name='Mortes'))\n",
        "\n",
        "fig.update_layout(title='Casos de Covid',\n",
        "                   xaxis_title='data',\n",
        "                   yaxis_title='Número de casos')\n",
        "fig.show()"
      ],
      "metadata": {
        "id": "muo4PmgpuStp"
      },
      "execution_count": null,
      "outputs": []
    },
    {
      "cell_type": "markdown",
      "source": [
        "# Divisão da Base em Treino e Teste"
      ],
      "metadata": {
        "id": "EzcmsSsD0LLO"
      }
    },
    {
      "cell_type": "code",
      "source": [
        "#Divisão da base em treino e teste já selecionando o período/ De Fevereiro de 2020 a Abril de 2021 / A previsão será para Maio de 2021\n",
        "treino = df_brasil_casos['2020-02-26': \"2021-04-30\"]\n",
        "teste = df_brasil_casos[\"2021-05-01\":]"
      ],
      "metadata": {
        "id": "bBS3h7kyttJP"
      },
      "execution_count": 38,
      "outputs": []
    },
    {
      "cell_type": "code",
      "source": [
        "#Selecionando apenas a coluna de casos confirmados para fazermos a previsão de casos confirmados\n",
        "treino_previsao= treino['casos_confirmados']\n",
        "teste_previsao = teste['casos_confirmados']\n",
        "previsao_teste_treino = pd.concat([treino_previsao,teste_previsao],axis=0)"
      ],
      "metadata": {
        "id": "ZhA5P238vmq2"
      },
      "execution_count": 39,
      "outputs": []
    },
    {
      "cell_type": "markdown",
      "source": [
        "#Decomposição da Série"
      ],
      "metadata": {
        "id": "rCwIbrI10GaF"
      }
    },
    {
      "cell_type": "code",
      "source": [
        "#Exibindo o tamanho do dataset que será decomposto\n",
        "len(treino_previsao)"
      ],
      "metadata": {
        "id": "2zhmt2oy1Oef"
      },
      "execution_count": null,
      "outputs": []
    },
    {
      "cell_type": "code",
      "source": [
        "#Criando a variável decomposição utilizando o seasonal_decompose que é uma biblioteca importada\n",
        "#Vamos observar a tendência da sazonalidade e a aleatoriedade dos dados de treino de casos confirmados\n",
        "#O modelo ultilizado será o multiplicative que assume que as séries temporais são o resultado \n",
        "#de uma multiplicação entre as componentes de tendência, sazonalidade e aleatoriedade\n",
        "decomposicao = seasonal_decompose(treino_previsao, model='multiplicative')"
      ],
      "metadata": {
        "id": "wY_4vT3Lzx3n"
      },
      "execution_count": 43,
      "outputs": []
    },
    {
      "cell_type": "code",
      "source": [
        "#Criando 3 variáveis, a primeira é:\n",
        "#tendencia: ou seja a tendencia que as coisas estão acontecendo\n",
        "#sazonal: é a sazonalidade ou periodicidade\n",
        "#aleatorio: aleatorio são dados que nao irão se encaixar em nenhum dos casos anteriores\n",
        "tendencia = decomposicao.trend\n",
        "sazonal = decomposicao.seasonal\n",
        "aleatorio = decomposicao.resid"
      ],
      "metadata": {
        "id": "w7OgEN7K3A7e"
      },
      "execution_count": 44,
      "outputs": []
    },
    {
      "cell_type": "code",
      "source": [
        "#Plots\n",
        "plt.subplots(figsize=(10, 7))\n",
        "plt.subplot(411)\n",
        "plt.plot(treino_previsao, label='Original')\n",
        "plt.legend(loc='best')\n",
        "\n",
        "#Observando de maneira visual a tendencia\n",
        "plt.subplot(412)\n",
        "plt.plot(tendencia, label='Tendencia')\n",
        "plt.legend(loc='best')\n",
        "#Podemos observar, temos uma tendencia de ascensão\n",
        "\n",
        "#Vamos observar a sazonalidade ou periodicidade\n",
        "plt.subplot(413)\n",
        "plt.plot(sazonal, label='Sazonalidade')\n",
        "plt.legend(loc='best')\n",
        "#Como podemos ver temos picos de quedas e subidas na maioria dos períodos/\n",
        "#Mas a média geral, como vimos no gráfico de tendencia, é de subida\n",
        "\n",
        "#Exibição dos momentos aleatórios \n",
        "plt.subplot(414)\n",
        "plt.plot(aleatorio, label='Aleatoriedade')\n",
        "plt.legend(loc='best')\n",
        "#São alguns momentos que não se enquadram nas situações anteriores\n",
        "#Executando esse teste a grande diferença ficou na parte aleatória"
      ],
      "metadata": {
        "id": "6PqSEJyq33eU"
      },
      "execution_count": null,
      "outputs": []
    },
    {
      "cell_type": "markdown",
      "source": [
        "**Testando com o model='additive'**"
      ],
      "metadata": {
        "id": "zri8pCZVBfZD"
      }
    },
    {
      "cell_type": "code",
      "source": [
        "#O modelo desta vez será o 'additive'. que é um modelo que assume que as séries temporais são o resultado \n",
        "#da soma dos componentes de tendência, sazonalidade e aleatoriedade. Em outras palavras, cada observação é igual à soma dessas componentes.\n",
        "decomposicao2 = seasonal_decompose(treino_previsao, model='additive')"
      ],
      "metadata": {
        "id": "hLwwk0Z-Br6M"
      },
      "execution_count": 46,
      "outputs": []
    },
    {
      "cell_type": "code",
      "source": [
        "#Criando as 3 variáveis:\n",
        "tendencia2 = decomposicao2.trend\n",
        "sazonal2 = decomposicao2.seasonal\n",
        "aleatorio2 = decomposicao2.resid"
      ],
      "metadata": {
        "id": "cBaCvG3jCy30"
      },
      "execution_count": 47,
      "outputs": []
    },
    {
      "cell_type": "code",
      "source": [
        "#Plots\n",
        "plt.subplots(figsize=(10, 7))\n",
        "plt.subplot(411)\n",
        "plt.plot(treino_previsao, label='Original')\n",
        "plt.legend(loc='best')\n",
        "\n",
        "#Observando de maneira visual a tendencia\n",
        "plt.subplot(412)\n",
        "plt.plot(tendencia2, label='Tendencia')\n",
        "plt.legend(loc='best')\n",
        "#Podemos observar, temos uma tendencia de ascensão\n",
        "\n",
        "#Vamos observar a sazonalidade ou periodicidade\n",
        "plt.subplot(413)\n",
        "plt.plot(sazonal2, label='Sazonalidade')\n",
        "plt.legend(loc='best')\n",
        "#Como podemos ver temos picos de quedas e subidas na maioria dos períodos,\n",
        "#neste sentido foi bastante semelhante ao modelo anterior\n",
        "\n",
        "#Exibição dos momentos aleatórios \n",
        "plt.subplot(414)\n",
        "plt.plot(aleatorio2, label='Aleatoriedade')\n",
        "plt.legend(loc='best')\n",
        "#Através desta plotagem, é possível notar que as situações aleatórias são mais semelhantes\n",
        "#a sazonalidade em alguns períodos como 2020/07 e 2021/01\n",
        "#É possível concluir que em comparação ao gráfico do model \"multiplicative\" o model \"additive\" foi um pouco mais semelhante a periodicidade."
      ],
      "metadata": {
        "id": "GnnlxD_3DBVt"
      },
      "execution_count": null,
      "outputs": []
    },
    {
      "cell_type": "markdown",
      "source": [
        "#Previsão com Algoritmo de ARIMA"
      ],
      "metadata": {
        "id": "0H8DM2vntNXh"
      }
    },
    {
      "cell_type": "code",
      "source": [
        "#Prevendo o número de casos no próximo mês com ARIMA\n",
        "#Nesta etapa o objetivo é fazer a previsão de casos para o próximo mês de Maio"
      ],
      "metadata": {
        "id": "BarhBSCHtRiY"
      },
      "execution_count": 49,
      "outputs": []
    },
    {
      "cell_type": "code",
      "source": [
        "#Criação da variável modelo utilizando o auto_arima para sabermos os melhores parâmetros\n",
        "modelo = auto_arima(treino_previsao, method= 'nm', max_D=2, stepwise=True, maxiter =50, trace=True)"
      ],
      "metadata": {
        "id": "uJbJHLRaY8Fj"
      },
      "execution_count": null,
      "outputs": []
    },
    {
      "cell_type": "code",
      "source": [
        "#Verificando o modelo que ele utilizou\n",
        "modelo.order\n",
        "#Como podemos observar, a ordem é 1, 2, 1"
      ],
      "metadata": {
        "id": "sXKxlTutaFc5"
      },
      "execution_count": null,
      "outputs": []
    },
    {
      "cell_type": "code",
      "source": [
        "#Aplicando os melhores parâmetros ao modelo\n",
        "modelo.fit(treino_previsao)"
      ],
      "metadata": {
        "id": "XSm5ju_PacYp"
      },
      "execution_count": null,
      "outputs": []
    },
    {
      "cell_type": "code",
      "source": [
        "#Como relatado anteriormente será realizado a previsão para os próximos 29 dias que são os dados do mês de Maio que temos\n",
        "previsoes = modelo.predict(n_periods=29)"
      ],
      "metadata": {
        "id": "gCdLwPQna4mS"
      },
      "execution_count": 53,
      "outputs": []
    },
    {
      "cell_type": "code",
      "source": [
        "#Essas são as previsões para os próximos 29 dias baseada no \"treino_previsao\"\n",
        "previsoes"
      ],
      "metadata": {
        "id": "iQJlVwGPcHZ4"
      },
      "execution_count": null,
      "outputs": []
    },
    {
      "cell_type": "code",
      "source": [
        "#Tranformando as previsões em Dataframe para uma melhor visualização\n",
        "previsoes=pd.DataFrame(previsoes,index=teste.index, columns=['previsão'])\n",
        "previsoes"
      ],
      "metadata": {
        "id": "RBVij2g_cdCw"
      },
      "execution_count": null,
      "outputs": []
    },
    {
      "cell_type": "code",
      "source": [
        "#Verificando o tamanho do teste\n",
        "teste_previsao.shape\n",
        "#Como podemos observar o seu tamanho é 29, ou seja, 29 dias restantes do mês de Maio"
      ],
      "metadata": {
        "id": "J89xjoZ7f7Oz"
      },
      "execution_count": null,
      "outputs": []
    },
    {
      "cell_type": "code",
      "source": [
        "teste_previsao\n",
        "#Comparando o nosso teste com as previsões"
      ],
      "metadata": {
        "id": "Trpa3Gm3ekAW"
      },
      "execution_count": null,
      "outputs": []
    },
    {
      "cell_type": "markdown",
      "source": [
        "# Gráfico das Previsões"
      ],
      "metadata": {
        "id": "f68rHhyGdfL0"
      }
    },
    {
      "cell_type": "code",
      "source": [
        "#Vamos observar essa comparação de maneira visual\n",
        "#Iremos verificar se os valores previstos são semelhantes aos valores originais\n",
        "plt.figure(figsize=(20,5))\n",
        "pd.concat([teste_previsao,previsoes],axis=1).plot(figsize=(20,5))\n",
        "plt.xlabel('')\n",
        "plt.title('Previsões X Original',size=15)\n",
        "plt.xlabel(\"Período\", size=15)\n",
        "plt.legend(['Valor Original','Previsão'])"
      ],
      "metadata": {
        "id": "jVqjwlUaiUH-"
      },
      "execution_count": null,
      "outputs": []
    },
    {
      "cell_type": "code",
      "source": [
        "#Observando a mesma situação, porém com a janela de tempo mais detalhada\n",
        "pd.concat([df_brasil_casos['casos_confirmados'],previsoes],\n",
        "          axis=1).plot(linewidth=2,\n",
        "                       figsize=(20,7),\n",
        "                       color=['g','r'])\n",
        "plt.legend(['Casos de Covid','Previsões'], fontsize=15)\n",
        "plt.xlabel('Período', size=15)\n",
        "plt.title('Previsões X Real',size=15)\n",
        "plt.show();\n"
      ],
      "metadata": {
        "id": "mlr24-q1lgte"
      },
      "execution_count": null,
      "outputs": []
    },
    {
      "cell_type": "markdown",
      "source": [
        "#Avaliação deste Algoritmo"
      ],
      "metadata": {
        "id": "Aw4OeB6QmzhO"
      }
    },
    {
      "cell_type": "code",
      "source": [
        "#Comparando o teste e a previsão através dos seus índices\n",
        "teste_previsao[0:2]"
      ],
      "metadata": {
        "id": "zvEV7xAVm4Gx"
      },
      "execution_count": null,
      "outputs": []
    },
    {
      "cell_type": "code",
      "source": [
        "previsoes[0:2]"
      ],
      "metadata": {
        "id": "IGBeINADnfoI"
      },
      "execution_count": null,
      "outputs": []
    },
    {
      "cell_type": "code",
      "source": [
        "#Verificando a precisão de maneira automática, ou seja, cálculo para verificar o (Mean Absolute Percentage Error) MAPE\n",
        "#Importação da biblioteca para realização do procedimento\n",
        "from sklearn.metrics import mean_absolute_percentage_error"
      ],
      "metadata": {
        "id": "WxV101RPoiru"
      },
      "execution_count": 62,
      "outputs": []
    },
    {
      "cell_type": "code",
      "source": [
        "mean_absolute_percentage_error(teste_previsao, previsoes)\n",
        "#Como podemos verificar a porcentagem média de erro absoluto entre as previsões geradas pelo algoritmo e os \n",
        "#valores reais da série temporal é de aproximadamente 0,60%. Em outras palavras, o algoritmo tem uma precisão média de 99,40% \n",
        "#em relação aos valores reais. Quanto menor o valor do mean_absolute_percentage_error, melhor é a precisão do algoritmo. \n",
        "#Portanto, um MAPE de 0,60% indica que o algoritmo tem uma boa precisão em relação aos valores reais."
      ],
      "metadata": {
        "id": "VAiHL6a3pqq4"
      },
      "execution_count": null,
      "outputs": []
    },
    {
      "cell_type": "markdown",
      "source": [
        "#Previsão com Algoritmo Facebook Prophet"
      ],
      "metadata": {
        "id": "Iusm40xGvnzr"
      }
    },
    {
      "cell_type": "code",
      "source": [
        "#Prevendo o número de casos para o mês de Maio com o Facebook Prophet"
      ],
      "metadata": {
        "id": "j2bRqsTMvWHY"
      },
      "execution_count": null,
      "outputs": []
    },
    {
      "cell_type": "markdown",
      "source": [
        "**Instalação e Importação das Bibliotecas** "
      ],
      "metadata": {
        "id": "XyZ6Efy3v8FF"
      }
    },
    {
      "cell_type": "code",
      "source": [
        "#Instalação da biblioteca pystan que é uma interface Python para a linguagem Stan, que é uma linguagem de \n",
        "#modelagem estatística de alto desempenho.\n",
        "#(Neste caso, foi necessário a instalação da mesma para a partir disso instalar a biblioteca do Facebook) \n",
        "!pip install pystan~=2.14"
      ],
      "metadata": {
        "id": "SpJQAQaZv2Ds"
      },
      "execution_count": null,
      "outputs": []
    },
    {
      "cell_type": "code",
      "source": [
        "#Instalação da biblioteca do Facebook Prophet\n",
        "!pip install fbprophet"
      ],
      "metadata": {
        "id": "NCM6JYxbz0nF"
      },
      "execution_count": null,
      "outputs": []
    },
    {
      "cell_type": "code",
      "source": [
        "#Importação da mesma\n",
        "from fbprophet import Prophet"
      ],
      "metadata": {
        "id": "aOB0XlDB0Cec"
      },
      "execution_count": 66,
      "outputs": []
    },
    {
      "cell_type": "code",
      "source": [
        "treino_previsao"
      ],
      "metadata": {
        "id": "04ChGwzX1gbT"
      },
      "execution_count": null,
      "outputs": []
    },
    {
      "cell_type": "code",
      "source": [
        "#Inicialmente devemos renomear as colunas pois o algoritmo do Prophet \n",
        "#só identifica a coluna data se estiver nomeada como 'ds', e o valor que se deseja prever como \"y\"\n",
        "treino_prophet =treino_previsao.reset_index()\n",
        "treino_prophet = treino_prophet.rename(columns={'data_da_observacao' : 'ds', 'casos_confirmados': 'y'})\n",
        "\n",
        "teste_prophet = teste_previsao.reset_index()\n",
        "teste_prophet = teste_prophet.rename(columns={'data_da_observacao' : 'ds', 'casos_confirmados': 'y'})\n",
        "\n",
        "prophet_teste_treino = pd.concat([treino_prophet,teste_prophet],axis=0)"
      ],
      "metadata": {
        "id": "pxBK6_p10ulm"
      },
      "execution_count": 68,
      "outputs": []
    },
    {
      "cell_type": "code",
      "source": [
        "#Construção do modelo que será utilizado pelo algoritmo facebook prophet para realizar previsões\n",
        "#Primeiro instanciamos o algoritmo \n",
        "modelo = Prophet()\n",
        "#Depois usamos o algoritmo setando o nosso dataset\n",
        "modelo.fit(treino_prophet)"
      ],
      "metadata": {
        "id": "bjEgV35O2qut"
      },
      "execution_count": null,
      "outputs": []
    },
    {
      "cell_type": "code",
      "source": [
        "#Criação da variável 'futuro' setando o modelo juntamente com o período de 30 dias como no Arima\n",
        "futuro = modelo.make_future_dataframe(periods= 30, freq = '1d')\n",
        "#Depois criamos as previsões setando a nossa variável futuro\n",
        "previsao = modelo.predict(futuro)"
      ],
      "metadata": {
        "id": "GVO0jrQY3Iur"
      },
      "execution_count": null,
      "outputs": []
    },
    {
      "cell_type": "code",
      "source": [
        "#Como podemos observar ele cria muitas váriaveis contendo dados dos cálculos, algumas dessas colunas são termos aditivos, menor valor semanal,\n",
        "# maior valor semanal, menor valor anual e etc, e a ultima coluna é a previsão 'yhat' \n",
        "previsao.head()"
      ],
      "metadata": {
        "id": "HvxMad_h4cqD"
      },
      "execution_count": null,
      "outputs": []
    },
    {
      "cell_type": "code",
      "source": [
        "#Verificando o tamanho do dataset e o tamanho das previsões\n",
        "len(treino_prophet), len(previsao)"
      ],
      "metadata": {
        "id": "3ifzH5iP5fYb"
      },
      "execution_count": null,
      "outputs": []
    },
    {
      "cell_type": "code",
      "source": [
        "#Conferindo se realmente está correto\n",
        "len(previsao) - len(treino_prophet)\n",
        "#Constatamos que está correto pois o retorno foi 30, ou seja, os 30 dias que colocamos para pesquisar"
      ],
      "metadata": {
        "id": "1IUUwlCp5ydg"
      },
      "execution_count": null,
      "outputs": []
    },
    {
      "cell_type": "code",
      "source": [
        "#Exibindo as previsões de 30 dias\n",
        "previsao.tail(30)"
      ],
      "metadata": {
        "id": "YoROV_iw6kP5"
      },
      "execution_count": null,
      "outputs": []
    },
    {
      "cell_type": "markdown",
      "source": [
        "#Gráfico das Previsões"
      ],
      "metadata": {
        "id": "mvmVFuqE68v6"
      }
    },
    {
      "cell_type": "code",
      "source": [
        "#Plotando o gráfico de previsões\n",
        "modelo.plot(previsao)\n",
        "\n",
        "data_previsao = previsao[['ds', 'yhat']]\n",
        "df_previsao = data_previsao.merge(teste_prophet, how='inner', on='ds')\n",
        "#É possível observar através do gráfico, que o algoritmo Prophet foi bastante acertivo na maioria dos períodos,\n",
        "#conseguindo acompanhar as variações durante os períodos, sendo mais acertivo do que o Algoritmo de Arima"
      ],
      "metadata": {
        "id": "PfNS8hE87DWy"
      },
      "execution_count": null,
      "outputs": []
    },
    {
      "cell_type": "code",
      "source": [
        "#Exibindo os componentes ou seja os dados de decomposição\n",
        "modelo.plot_components(previsao);"
      ],
      "metadata": {
        "id": "BnS7XOgR8-0T"
      },
      "execution_count": null,
      "outputs": []
    },
    {
      "cell_type": "code",
      "source": [
        "#Utilizando o express para realizar estes modelos de forma mais dinâmica"
      ],
      "metadata": {
        "id": "uaKirgQf9sgj"
      },
      "execution_count": 77,
      "outputs": []
    },
    {
      "cell_type": "code",
      "source": [
        "#importação das bibliotecas\n",
        "from fbprophet.plot import plot_plotly, plot_components_plotly"
      ],
      "metadata": {
        "id": "gwvJT4Hv9t_a"
      },
      "execution_count": 78,
      "outputs": []
    },
    {
      "cell_type": "code",
      "source": [
        "#Plotagem do modelo e previsões de forma dinâmica, podendo classicar por semana, ano, 6 meses, todos e etc\n",
        "plot_plotly(modelo, previsao)"
      ],
      "metadata": {
        "id": "EtLdnEms9xj0"
      },
      "execution_count": null,
      "outputs": []
    },
    {
      "cell_type": "code",
      "source": [
        "#Exibição dos componentes\n",
        "plot_components_plotly(modelo, previsao)"
      ],
      "metadata": {
        "id": "7espDvlZ_h-Z"
      },
      "execution_count": null,
      "outputs": []
    },
    {
      "cell_type": "markdown",
      "source": [
        "#Avaliação deste Algoritmo"
      ],
      "metadata": {
        "id": "vpqWUPT18Hg0"
      }
    },
    {
      "cell_type": "code",
      "source": [
        "#Calculando o erro MAPE (mean absolute error)\n",
        "y_true = df_previsao['y']\n",
        "y_pred = df_previsao['yhat']\n",
        "mean_absolute_percentage_error(y_true, y_pred)\n",
        "#Para este caso, o resultado encontrado com o Prophet foi melhor do que o resultado obtido com o ARIMA\n",
        "#Valendo ressaltar que quanto menor a média de erro percentual em relação aos valores reais, \n",
        "#melhor a performance de previsão"
      ],
      "metadata": {
        "id": "_tiAbk8R8JL6"
      },
      "execution_count": null,
      "outputs": []
    },
    {
      "cell_type": "markdown",
      "source": [
        "#Conclusão"
      ],
      "metadata": {
        "id": "6XJK68gU0Vux"
      }
    },
    {
      "cell_type": "code",
      "source": [
        "'''\n",
        "Ao chegar ao final deste projeto, é possível concluir que de forma geral os algoritmos de Arima e Facebook Prophet foram bem acertivos,\n",
        "ou seja, em comparação com os valores reais eles obtiveram médias percentuais de erro baixas.\n",
        "\n",
        "O MAPE mede a porcentagem média de erro em relação às observações reais e é uma métrica importante para avaliar a precisão \n",
        "dos modelos de previsão. Quanto menor o valor do MAPE, melhor é o desempenho do modelo.\n",
        "\n",
        "Trazendo um comparativo entre os dois algoritmos, com base nos resultados obtidos, é possível afirmar que o modelo Facebook Prophet \n",
        "apresentou um desempenho superior em relação ao modelo ARIMA, uma vez que obteve-se um valor de 0.0007764758089230986 no cálculo \n",
        "do erro médio absoluto percentual (MAPE), enquanto o ARIMA obteve um valor de 0.005967400263522024. \n",
        "\n",
        "Portanto, considerando que o Facebook Prophet apresentou um MAPE significativamente menor em comparação ao ARIMA, \n",
        "pode-se afirmar que ele foi o modelo mais acertivo na previsão dos dados analisados. É importante ressaltar que, \n",
        "embora o Facebook Prophet tenha apresentado melhor desempenho neste caso, é sempre recomendado avaliar diferentes modelos \n",
        "e métricas de avaliação para escolher a melhor abordagem de acordo com as características do problema em questão.\n",
        "\n",
        "'''"
      ],
      "metadata": {
        "id": "93IRrZ0d0YQU"
      },
      "execution_count": null,
      "outputs": []
    }
  ]
}